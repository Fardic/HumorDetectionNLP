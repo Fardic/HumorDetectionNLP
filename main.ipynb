{
 "cells": [
  {
   "cell_type": "code",
   "execution_count": 1,
   "id": "e34b3b70",
   "metadata": {
    "execution": {
     "iopub.execute_input": "2022-04-17T15:03:04.579314Z",
     "iopub.status.busy": "2022-04-17T15:03:04.578666Z",
     "iopub.status.idle": "2022-04-17T15:03:06.326624Z",
     "shell.execute_reply": "2022-04-17T15:03:06.326010Z"
    },
    "papermill": {
     "duration": 1.779354,
     "end_time": "2022-04-17T15:03:06.329180",
     "exception": false,
     "start_time": "2022-04-17T15:03:04.549826",
     "status": "completed"
    },
    "tags": []
   },
   "outputs": [
    {
     "name": "stdout",
     "output_type": "stream",
     "text": [
      "[nltk_data] Downloading package stopwords to /usr/share/nltk_data...\n",
      "[nltk_data]   Package stopwords is already up-to-date!\n"
     ]
    }
   ],
   "source": [
    "import pandas as pd\n",
    "import numpy as np\n",
    "import nltk\n",
    "from nltk.corpus import stopwords\n",
    "nltk.download('stopwords')\n",
    "from sklearn.model_selection import train_test_split\n",
    "from sklearn.metrics import roc_auc_score, f1_score, accuracy_score\n",
    "from sklearn.linear_model import LogisticRegression\n",
    "from sklearn.feature_extraction.text import CountVectorizer\n"
   ]
  },
  {
   "cell_type": "markdown",
   "id": "06bfdfc4",
   "metadata": {
    "papermill": {
     "duration": 0.034798,
     "end_time": "2022-04-17T15:03:06.395491",
     "exception": false,
     "start_time": "2022-04-17T15:03:06.360693",
     "status": "completed"
    },
    "tags": []
   },
   "source": [
    "# Data Summary"
   ]
  },
  {
   "cell_type": "markdown",
   "id": "d8addf6d",
   "metadata": {
    "papermill": {
     "duration": 0.028848,
     "end_time": "2022-04-17T15:03:06.455961",
     "exception": false,
     "start_time": "2022-04-17T15:03:06.427113",
     "status": "completed"
    },
    "tags": []
   },
   "source": [
    "The dataset consists of texts and our problem is to write a model that can seperate the ones that are humorous from the ones that are not. My objective is to write a simple notebook that will be a headstart for anyone who wants to work on this dataset. Let's investigate a little more."
   ]
  },
  {
   "cell_type": "code",
   "execution_count": 2,
   "id": "33a0eeb4",
   "metadata": {
    "execution": {
     "iopub.execute_input": "2022-04-17T15:03:06.508620Z",
     "iopub.status.busy": "2022-04-17T15:03:06.507801Z",
     "iopub.status.idle": "2022-04-17T15:03:06.957385Z",
     "shell.execute_reply": "2022-04-17T15:03:06.956442Z"
    },
    "papermill": {
     "duration": 0.478745,
     "end_time": "2022-04-17T15:03:06.960101",
     "exception": false,
     "start_time": "2022-04-17T15:03:06.481356",
     "status": "completed"
    },
    "tags": []
   },
   "outputs": [
    {
     "data": {
      "text/html": [
       "<div>\n",
       "<style scoped>\n",
       "    .dataframe tbody tr th:only-of-type {\n",
       "        vertical-align: middle;\n",
       "    }\n",
       "\n",
       "    .dataframe tbody tr th {\n",
       "        vertical-align: top;\n",
       "    }\n",
       "\n",
       "    .dataframe thead th {\n",
       "        text-align: right;\n",
       "    }\n",
       "</style>\n",
       "<table border=\"1\" class=\"dataframe\">\n",
       "  <thead>\n",
       "    <tr style=\"text-align: right;\">\n",
       "      <th></th>\n",
       "      <th>text</th>\n",
       "      <th>humor</th>\n",
       "    </tr>\n",
       "  </thead>\n",
       "  <tbody>\n",
       "    <tr>\n",
       "      <th>0</th>\n",
       "      <td>Joe biden rules out 2020 bid: 'guys, i'm not r...</td>\n",
       "      <td>False</td>\n",
       "    </tr>\n",
       "    <tr>\n",
       "      <th>1</th>\n",
       "      <td>Watch: darvish gave hitter whiplash with slow ...</td>\n",
       "      <td>False</td>\n",
       "    </tr>\n",
       "    <tr>\n",
       "      <th>2</th>\n",
       "      <td>What do you call a turtle without its shell? d...</td>\n",
       "      <td>True</td>\n",
       "    </tr>\n",
       "    <tr>\n",
       "      <th>3</th>\n",
       "      <td>5 reasons the 2016 election feels so personal</td>\n",
       "      <td>False</td>\n",
       "    </tr>\n",
       "    <tr>\n",
       "      <th>4</th>\n",
       "      <td>Pasco police shot mexican migrant from behind,...</td>\n",
       "      <td>False</td>\n",
       "    </tr>\n",
       "  </tbody>\n",
       "</table>\n",
       "</div>"
      ],
      "text/plain": [
       "                                                text  humor\n",
       "0  Joe biden rules out 2020 bid: 'guys, i'm not r...  False\n",
       "1  Watch: darvish gave hitter whiplash with slow ...  False\n",
       "2  What do you call a turtle without its shell? d...   True\n",
       "3      5 reasons the 2016 election feels so personal  False\n",
       "4  Pasco police shot mexican migrant from behind,...  False"
      ]
     },
     "execution_count": 2,
     "metadata": {},
     "output_type": "execute_result"
    }
   ],
   "source": [
    "dataset = pd.read_csv(\"../input/200k-short-texts-for-humor-detection/dataset.csv\")\n",
    "dataset.head()"
   ]
  },
  {
   "cell_type": "markdown",
   "id": "3092984c",
   "metadata": {
    "papermill": {
     "duration": 0.025465,
     "end_time": "2022-04-17T15:03:07.011602",
     "exception": false,
     "start_time": "2022-04-17T15:03:06.986137",
     "status": "completed"
    },
    "tags": []
   },
   "source": [
    "We see that there are punctuations, numbers, capital and lower letters in the data. These problems will be handled in the data preprocessing part."
   ]
  },
  {
   "cell_type": "code",
   "execution_count": 3,
   "id": "c565bc3c",
   "metadata": {
    "execution": {
     "iopub.execute_input": "2022-04-17T15:03:07.064772Z",
     "iopub.status.busy": "2022-04-17T15:03:07.064492Z",
     "iopub.status.idle": "2022-04-17T15:03:07.109597Z",
     "shell.execute_reply": "2022-04-17T15:03:07.108269Z"
    },
    "papermill": {
     "duration": 0.074464,
     "end_time": "2022-04-17T15:03:07.111852",
     "exception": false,
     "start_time": "2022-04-17T15:03:07.037388",
     "status": "completed"
    },
    "tags": []
   },
   "outputs": [
    {
     "name": "stdout",
     "output_type": "stream",
     "text": [
      "<class 'pandas.core.frame.DataFrame'>\n",
      "RangeIndex: 200000 entries, 0 to 199999\n",
      "Data columns (total 2 columns):\n",
      " #   Column  Non-Null Count   Dtype \n",
      "---  ------  --------------   ----- \n",
      " 0   text    200000 non-null  object\n",
      " 1   humor   200000 non-null  bool  \n",
      "dtypes: bool(1), object(1)\n",
      "memory usage: 1.7+ MB\n"
     ]
    }
   ],
   "source": [
    "dataset.info()"
   ]
  },
  {
   "cell_type": "markdown",
   "id": "16ba3623",
   "metadata": {
    "papermill": {
     "duration": 0.026556,
     "end_time": "2022-04-17T15:03:07.166528",
     "exception": false,
     "start_time": "2022-04-17T15:03:07.139972",
     "status": "completed"
    },
    "tags": []
   },
   "source": [
    "There are no null values in the dataset."
   ]
  },
  {
   "cell_type": "markdown",
   "id": "578bd174",
   "metadata": {
    "papermill": {
     "duration": 0.025934,
     "end_time": "2022-04-17T15:03:07.218554",
     "exception": false,
     "start_time": "2022-04-17T15:03:07.192620",
     "status": "completed"
    },
    "tags": []
   },
   "source": [
    "# Data Preprocessing"
   ]
  },
  {
   "cell_type": "markdown",
   "id": "a73996b8",
   "metadata": {
    "papermill": {
     "duration": 0.025622,
     "end_time": "2022-04-17T15:03:07.270410",
     "exception": false,
     "start_time": "2022-04-17T15:03:07.244788",
     "status": "completed"
    },
    "tags": []
   },
   "source": [
    "Luckily, python already has a function to lower letters. However, we will use regex to fetch punctuations and numbers."
   ]
  },
  {
   "cell_type": "code",
   "execution_count": 4,
   "id": "fe8cba06",
   "metadata": {
    "execution": {
     "iopub.execute_input": "2022-04-17T15:03:07.324389Z",
     "iopub.status.busy": "2022-04-17T15:03:07.323876Z",
     "iopub.status.idle": "2022-04-17T15:03:08.615322Z",
     "shell.execute_reply": "2022-04-17T15:03:08.614477Z"
    },
    "papermill": {
     "duration": 1.321073,
     "end_time": "2022-04-17T15:03:08.617400",
     "exception": false,
     "start_time": "2022-04-17T15:03:07.296327",
     "status": "completed"
    },
    "tags": []
   },
   "outputs": [
    {
     "data": {
      "text/html": [
       "<div>\n",
       "<style scoped>\n",
       "    .dataframe tbody tr th:only-of-type {\n",
       "        vertical-align: middle;\n",
       "    }\n",
       "\n",
       "    .dataframe tbody tr th {\n",
       "        vertical-align: top;\n",
       "    }\n",
       "\n",
       "    .dataframe thead th {\n",
       "        text-align: right;\n",
       "    }\n",
       "</style>\n",
       "<table border=\"1\" class=\"dataframe\">\n",
       "  <thead>\n",
       "    <tr style=\"text-align: right;\">\n",
       "      <th></th>\n",
       "      <th>text</th>\n",
       "      <th>humor</th>\n",
       "    </tr>\n",
       "  </thead>\n",
       "  <tbody>\n",
       "    <tr>\n",
       "      <th>0</th>\n",
       "      <td>joe biden rules out  bid guys im not running</td>\n",
       "      <td>False</td>\n",
       "    </tr>\n",
       "    <tr>\n",
       "      <th>1</th>\n",
       "      <td>watch darvish gave hitter whiplash with slow p...</td>\n",
       "      <td>False</td>\n",
       "    </tr>\n",
       "    <tr>\n",
       "      <th>2</th>\n",
       "      <td>what do you call a turtle without its shell dead</td>\n",
       "      <td>True</td>\n",
       "    </tr>\n",
       "    <tr>\n",
       "      <th>3</th>\n",
       "      <td>reasons the  election feels so personal</td>\n",
       "      <td>False</td>\n",
       "    </tr>\n",
       "    <tr>\n",
       "      <th>4</th>\n",
       "      <td>pasco police shot mexican migrant from behind ...</td>\n",
       "      <td>False</td>\n",
       "    </tr>\n",
       "  </tbody>\n",
       "</table>\n",
       "</div>"
      ],
      "text/plain": [
       "                                                text  humor\n",
       "0       joe biden rules out  bid guys im not running  False\n",
       "1  watch darvish gave hitter whiplash with slow p...  False\n",
       "2   what do you call a turtle without its shell dead   True\n",
       "3            reasons the  election feels so personal  False\n",
       "4  pasco police shot mexican migrant from behind ...  False"
      ]
     },
     "execution_count": 4,
     "metadata": {},
     "output_type": "execute_result"
    }
   ],
   "source": [
    "# Lower all letters\n",
    "dataset[\"text\"] = dataset[\"text\"].str.lower()\n",
    "# Remove punctuations\n",
    "dataset[\"text\"] =  dataset['text'].str.replace('[^\\w\\s]', '', regex=True)\n",
    "# Remove numbers\n",
    "dataset['text'] = dataset['text'].str.replace('\\d', '', regex=True)\n",
    "dataset.head()"
   ]
  },
  {
   "cell_type": "markdown",
   "id": "77d061b1",
   "metadata": {
    "papermill": {
     "duration": 0.026627,
     "end_time": "2022-04-17T15:03:08.671098",
     "exception": false,
     "start_time": "2022-04-17T15:03:08.644471",
     "status": "completed"
    },
    "tags": []
   },
   "source": [
    "Generally, stop words does not carry much information so we will remove them as well. To do that, we use the stop words which are chosen by nltk library."
   ]
  },
  {
   "cell_type": "code",
   "execution_count": 5,
   "id": "7f1f54a1",
   "metadata": {
    "execution": {
     "iopub.execute_input": "2022-04-17T15:03:08.726710Z",
     "iopub.status.busy": "2022-04-17T15:03:08.726410Z",
     "iopub.status.idle": "2022-04-17T15:03:13.219850Z",
     "shell.execute_reply": "2022-04-17T15:03:13.219294Z"
    },
    "papermill": {
     "duration": 4.523491,
     "end_time": "2022-04-17T15:03:13.221632",
     "exception": false,
     "start_time": "2022-04-17T15:03:08.698141",
     "status": "completed"
    },
    "tags": []
   },
   "outputs": [
    {
     "data": {
      "text/html": [
       "<div>\n",
       "<style scoped>\n",
       "    .dataframe tbody tr th:only-of-type {\n",
       "        vertical-align: middle;\n",
       "    }\n",
       "\n",
       "    .dataframe tbody tr th {\n",
       "        vertical-align: top;\n",
       "    }\n",
       "\n",
       "    .dataframe thead th {\n",
       "        text-align: right;\n",
       "    }\n",
       "</style>\n",
       "<table border=\"1\" class=\"dataframe\">\n",
       "  <thead>\n",
       "    <tr style=\"text-align: right;\">\n",
       "      <th></th>\n",
       "      <th>text</th>\n",
       "      <th>humor</th>\n",
       "    </tr>\n",
       "  </thead>\n",
       "  <tbody>\n",
       "    <tr>\n",
       "      <th>0</th>\n",
       "      <td>joe biden rules bid guys im running</td>\n",
       "      <td>False</td>\n",
       "    </tr>\n",
       "    <tr>\n",
       "      <th>1</th>\n",
       "      <td>watch darvish gave hitter whiplash slow pitch</td>\n",
       "      <td>False</td>\n",
       "    </tr>\n",
       "    <tr>\n",
       "      <th>2</th>\n",
       "      <td>call turtle without shell dead</td>\n",
       "      <td>True</td>\n",
       "    </tr>\n",
       "    <tr>\n",
       "      <th>3</th>\n",
       "      <td>reasons election feels personal</td>\n",
       "      <td>False</td>\n",
       "    </tr>\n",
       "    <tr>\n",
       "      <th>4</th>\n",
       "      <td>pasco police shot mexican migrant behind new a...</td>\n",
       "      <td>False</td>\n",
       "    </tr>\n",
       "  </tbody>\n",
       "</table>\n",
       "</div>"
      ],
      "text/plain": [
       "                                                text  humor\n",
       "0                joe biden rules bid guys im running  False\n",
       "1      watch darvish gave hitter whiplash slow pitch  False\n",
       "2                     call turtle without shell dead   True\n",
       "3                    reasons election feels personal  False\n",
       "4  pasco police shot mexican migrant behind new a...  False"
      ]
     },
     "execution_count": 5,
     "metadata": {},
     "output_type": "execute_result"
    }
   ],
   "source": [
    "# Remove stop words from dataset\n",
    "stop_words = stopwords.words('english')\n",
    "dataset['text'] = dataset['text'].apply(lambda x: \" \".join(x for x in str(x).split() if x not in stop_words))\n",
    "dataset.head()"
   ]
  },
  {
   "cell_type": "markdown",
   "id": "d435ab32",
   "metadata": {
    "papermill": {
     "duration": 0.027478,
     "end_time": "2022-04-17T15:03:13.276583",
     "exception": false,
     "start_time": "2022-04-17T15:03:13.249105",
     "status": "completed"
    },
    "tags": []
   },
   "source": [
    "We should also eliminate the rare words in the dataset since it is a low chance that they carry information about our problem. Yet every single word is another column that has to be processed by the machine learning model. "
   ]
  },
  {
   "cell_type": "code",
   "execution_count": 6,
   "id": "3641351b",
   "metadata": {
    "execution": {
     "iopub.execute_input": "2022-04-17T15:03:13.333151Z",
     "iopub.status.busy": "2022-04-17T15:03:13.332344Z",
     "iopub.status.idle": "2022-04-17T15:03:16.470426Z",
     "shell.execute_reply": "2022-04-17T15:03:16.469669Z"
    },
    "papermill": {
     "duration": 3.168528,
     "end_time": "2022-04-17T15:03:16.472415",
     "exception": false,
     "start_time": "2022-04-17T15:03:13.303887",
     "status": "completed"
    },
    "tags": []
   },
   "outputs": [
    {
     "data": {
      "text/html": [
       "<div>\n",
       "<style scoped>\n",
       "    .dataframe tbody tr th:only-of-type {\n",
       "        vertical-align: middle;\n",
       "    }\n",
       "\n",
       "    .dataframe tbody tr th {\n",
       "        vertical-align: top;\n",
       "    }\n",
       "\n",
       "    .dataframe thead th {\n",
       "        text-align: right;\n",
       "    }\n",
       "</style>\n",
       "<table border=\"1\" class=\"dataframe\">\n",
       "  <thead>\n",
       "    <tr style=\"text-align: right;\">\n",
       "      <th></th>\n",
       "      <th>text</th>\n",
       "      <th>humor</th>\n",
       "    </tr>\n",
       "  </thead>\n",
       "  <tbody>\n",
       "    <tr>\n",
       "      <th>0</th>\n",
       "      <td>joe biden rules bid guys im running</td>\n",
       "      <td>False</td>\n",
       "    </tr>\n",
       "    <tr>\n",
       "      <th>1</th>\n",
       "      <td>watch gave hitter whiplash slow pitch</td>\n",
       "      <td>False</td>\n",
       "    </tr>\n",
       "    <tr>\n",
       "      <th>2</th>\n",
       "      <td>call turtle without shell dead</td>\n",
       "      <td>True</td>\n",
       "    </tr>\n",
       "    <tr>\n",
       "      <th>3</th>\n",
       "      <td>reasons election feels personal</td>\n",
       "      <td>False</td>\n",
       "    </tr>\n",
       "    <tr>\n",
       "      <th>4</th>\n",
       "      <td>police shot mexican migrant behind new autopsy...</td>\n",
       "      <td>False</td>\n",
       "    </tr>\n",
       "  </tbody>\n",
       "</table>\n",
       "</div>"
      ],
      "text/plain": [
       "                                                text  humor\n",
       "0                joe biden rules bid guys im running  False\n",
       "1              watch gave hitter whiplash slow pitch  False\n",
       "2                     call turtle without shell dead   True\n",
       "3                    reasons election feels personal  False\n",
       "4  police shot mexican migrant behind new autopsy...  False"
      ]
     },
     "execution_count": 6,
     "metadata": {},
     "output_type": "execute_result"
    }
   ],
   "source": [
    "# Rare words are eliminated\n",
    "# Rare word definition: count of word will be less then quantile(.25)\n",
    "freq_words = pd.Series(\" \".join(dataset['text']).split()).value_counts()\n",
    "freq_filter = freq_words[freq_words<=freq_words.quantile(.25)]\n",
    "dataset[\"text\"] = dataset[\"text\"].apply(lambda x: \" \".join(x for x in x.split() if x not in freq_filter))\n",
    "dataset.head()"
   ]
  },
  {
   "cell_type": "markdown",
   "id": "14357314",
   "metadata": {
    "papermill": {
     "duration": 0.027703,
     "end_time": "2022-04-17T15:03:16.528133",
     "exception": false,
     "start_time": "2022-04-17T15:03:16.500430",
     "status": "completed"
    },
    "tags": []
   },
   "source": [
    "Lastly, type of labels are changed into int since logistic regression model of sklearn expects its label as integer. We also need to seperate the dataset as train and test to see performance of the model on the data that it never saw."
   ]
  },
  {
   "cell_type": "code",
   "execution_count": 7,
   "id": "105157a3",
   "metadata": {
    "execution": {
     "iopub.execute_input": "2022-04-17T15:03:16.585885Z",
     "iopub.status.busy": "2022-04-17T15:03:16.585396Z",
     "iopub.status.idle": "2022-04-17T15:03:16.623992Z",
     "shell.execute_reply": "2022-04-17T15:03:16.623201Z"
    },
    "papermill": {
     "duration": 0.070401,
     "end_time": "2022-04-17T15:03:16.626440",
     "exception": false,
     "start_time": "2022-04-17T15:03:16.556039",
     "status": "completed"
    },
    "tags": []
   },
   "outputs": [],
   "source": [
    "dataset[\"humor\"] = dataset[\"humor\"].astype(int)\n",
    "X_train, X_test, y_train, y_test = train_test_split(dataset[\"text\"], dataset[\"humor\"], test_size=0.2, random_state=5)"
   ]
  },
  {
   "cell_type": "markdown",
   "id": "26e266d3",
   "metadata": {
    "papermill": {
     "duration": 0.027434,
     "end_time": "2022-04-17T15:03:16.681915",
     "exception": false,
     "start_time": "2022-04-17T15:03:16.654481",
     "status": "completed"
    },
    "tags": []
   },
   "source": [
    "# Count Vectorization"
   ]
  },
  {
   "cell_type": "markdown",
   "id": "ec1c3731",
   "metadata": {
    "papermill": {
     "duration": 0.027372,
     "end_time": "2022-04-17T15:03:16.737136",
     "exception": false,
     "start_time": "2022-04-17T15:03:16.709764",
     "status": "completed"
    },
    "tags": []
   },
   "source": [
    "I just passed default parameters of count vectorizer. \n",
    "\n",
    "Below code seperates the data word by word. Every word in the dataset will be the columns of the new dataset and if the word is passed in the given observation(row), the column will show how many times that word passed in the observation."
   ]
  },
  {
   "cell_type": "code",
   "execution_count": 8,
   "id": "f12959af",
   "metadata": {
    "execution": {
     "iopub.execute_input": "2022-04-17T15:03:16.794375Z",
     "iopub.status.busy": "2022-04-17T15:03:16.794083Z",
     "iopub.status.idle": "2022-04-17T15:03:19.380558Z",
     "shell.execute_reply": "2022-04-17T15:03:19.379459Z"
    },
    "papermill": {
     "duration": 2.619423,
     "end_time": "2022-04-17T15:03:19.384517",
     "exception": false,
     "start_time": "2022-04-17T15:03:16.765094",
     "status": "completed"
    },
    "tags": []
   },
   "outputs": [],
   "source": [
    "vectorizer = CountVectorizer()\n",
    "X_train_vectorized = vectorizer.fit_transform(X_train)\n",
    "X_test_vectorized = vectorizer.transform(X_test)"
   ]
  },
  {
   "cell_type": "markdown",
   "id": "af7cacff",
   "metadata": {
    "papermill": {
     "duration": 0.033591,
     "end_time": "2022-04-17T15:03:19.458812",
     "exception": false,
     "start_time": "2022-04-17T15:03:19.425221",
     "status": "completed"
    },
    "tags": []
   },
   "source": [
    "# Default Logistic Regression"
   ]
  },
  {
   "cell_type": "markdown",
   "id": "96b932b9",
   "metadata": {
    "papermill": {
     "duration": 0.027251,
     "end_time": "2022-04-17T15:03:19.513669",
     "exception": false,
     "start_time": "2022-04-17T15:03:19.486418",
     "status": "completed"
    },
    "tags": []
   },
   "source": [
    "I choose logistic regression with default parameters except number of maximium iterations due to let the model time to converge the global minima of loss function."
   ]
  },
  {
   "cell_type": "code",
   "execution_count": 9,
   "id": "c251d701",
   "metadata": {
    "execution": {
     "iopub.execute_input": "2022-04-17T15:03:19.575279Z",
     "iopub.status.busy": "2022-04-17T15:03:19.574340Z",
     "iopub.status.idle": "2022-04-17T15:03:31.065106Z",
     "shell.execute_reply": "2022-04-17T15:03:31.064218Z"
    },
    "papermill": {
     "duration": 11.522665,
     "end_time": "2022-04-17T15:03:31.067939",
     "exception": false,
     "start_time": "2022-04-17T15:03:19.545274",
     "status": "completed"
    },
    "tags": []
   },
   "outputs": [
    {
     "data": {
      "text/plain": [
       "LogisticRegression(max_iter=1000)"
      ]
     },
     "execution_count": 9,
     "metadata": {},
     "output_type": "execute_result"
    }
   ],
   "source": [
    "lr = LogisticRegression(max_iter=1000)\n",
    "lr.fit(X_train_vectorized, y_train)"
   ]
  },
  {
   "cell_type": "markdown",
   "id": "5f33db4b",
   "metadata": {
    "papermill": {
     "duration": 0.035745,
     "end_time": "2022-04-17T15:03:31.184525",
     "exception": false,
     "start_time": "2022-04-17T15:03:31.148780",
     "status": "completed"
    },
    "tags": []
   },
   "source": [
    "Train performance of the model is given below."
   ]
  },
  {
   "cell_type": "code",
   "execution_count": 10,
   "id": "c49b2bc1",
   "metadata": {
    "execution": {
     "iopub.execute_input": "2022-04-17T15:03:31.242676Z",
     "iopub.status.busy": "2022-04-17T15:03:31.242425Z",
     "iopub.status.idle": "2022-04-17T15:03:31.386055Z",
     "shell.execute_reply": "2022-04-17T15:03:31.384870Z"
    },
    "papermill": {
     "duration": 0.175152,
     "end_time": "2022-04-17T15:03:31.388070",
     "exception": false,
     "start_time": "2022-04-17T15:03:31.212918",
     "status": "completed"
    },
    "tags": []
   },
   "outputs": [
    {
     "name": "stdout",
     "output_type": "stream",
     "text": [
      "Train Accuracy: 0.94150625\n",
      "Train ROC-AUC Score: 0.9415036776839915\n",
      "Train F1 Score: 0.9416953756253154\n"
     ]
    }
   ],
   "source": [
    "preds = lr.predict(X_train_vectorized)\n",
    "print(f\"Train Accuracy: {accuracy_score(y_train, preds)}\")\n",
    "print(f\"Train ROC-AUC Score: {roc_auc_score(y_train, preds)}\")\n",
    "print(f\"Train F1 Score: {f1_score(y_train, preds)}\")"
   ]
  },
  {
   "cell_type": "markdown",
   "id": "daac1585",
   "metadata": {
    "papermill": {
     "duration": 0.02787,
     "end_time": "2022-04-17T15:03:31.444117",
     "exception": false,
     "start_time": "2022-04-17T15:03:31.416247",
     "status": "completed"
    },
    "tags": []
   },
   "source": [
    "Test performance of the model is given below."
   ]
  },
  {
   "cell_type": "code",
   "execution_count": 11,
   "id": "c5baa000",
   "metadata": {
    "execution": {
     "iopub.execute_input": "2022-04-17T15:03:31.502653Z",
     "iopub.status.busy": "2022-04-17T15:03:31.501853Z",
     "iopub.status.idle": "2022-04-17T15:03:31.542271Z",
     "shell.execute_reply": "2022-04-17T15:03:31.541332Z"
    },
    "papermill": {
     "duration": 0.071808,
     "end_time": "2022-04-17T15:03:31.544293",
     "exception": false,
     "start_time": "2022-04-17T15:03:31.472485",
     "status": "completed"
    },
    "tags": []
   },
   "outputs": [
    {
     "name": "stdout",
     "output_type": "stream",
     "text": [
      "Test Accuracy: 0.9113\n",
      "Test ROC-AUC Score: 0.911302281684157\n",
      "Test F1 Score: 0.9109393041819368\n"
     ]
    }
   ],
   "source": [
    "preds = lr.predict(X_test_vectorized)\n",
    "print(f\"Test Accuracy: {accuracy_score(y_test, preds)}\")\n",
    "print(f\"Test ROC-AUC Score: {roc_auc_score(y_test, preds)}\")\n",
    "print(f\"Test F1 Score: {f1_score(y_test, preds)}\")\n"
   ]
  },
  {
   "cell_type": "markdown",
   "id": "f68d0368",
   "metadata": {
    "papermill": {
     "duration": 0.028195,
     "end_time": "2022-04-17T15:03:31.601271",
     "exception": false,
     "start_time": "2022-04-17T15:03:31.573076",
     "status": "completed"
    },
    "tags": []
   },
   "source": [
    "Seems like model fit the data pretty well. We see that every metric values are close to each other. Training performance is a little higher than test results as expected. However, it may be a sign to check if the model is overfitted. Cross validation with hyperparameter tuning should be added to the code. However, I will finish the modelling part in here since I want this notebook to be a simple NLP guide."
   ]
  },
  {
   "cell_type": "markdown",
   "id": "4fcf0b9d",
   "metadata": {
    "papermill": {
     "duration": 0.028448,
     "end_time": "2022-04-17T15:03:31.658300",
     "exception": false,
     "start_time": "2022-04-17T15:03:31.629852",
     "status": "completed"
    },
    "tags": []
   },
   "source": [
    "We can also extract the important words for our model to see what kind of words can be distinctive for humor. To do that, we are going to take the highest absolute value of the coefficients of the model and look at which words these coefficients are correspond to.\n",
    "\n",
    "Note that important words do not mean these words make the sentences humorous. Some of these words are also shows the model that the sentence is not humorous. The importance of these words are that they are distinctive one way or another.\n",
    "\n",
    "Let's see most important 50 words in the dataset."
   ]
  },
  {
   "cell_type": "code",
   "execution_count": 12,
   "id": "72dde942",
   "metadata": {
    "execution": {
     "iopub.execute_input": "2022-04-17T15:03:31.717089Z",
     "iopub.status.busy": "2022-04-17T15:03:31.716804Z",
     "iopub.status.idle": "2022-04-17T15:03:31.809456Z",
     "shell.execute_reply": "2022-04-17T15:03:31.808496Z"
    },
    "papermill": {
     "duration": 0.124392,
     "end_time": "2022-04-17T15:03:31.811419",
     "exception": false,
     "start_time": "2022-04-17T15:03:31.687027",
     "status": "completed"
    },
    "tags": []
   },
   "outputs": [
    {
     "data": {
      "text/plain": [
       "array(['favourite', 'fuck', 'photos', 'allegedly', 'call', 'huffpost',\n",
       "       'shit', 'norris', 'recipes', 'fucking', 'reportedly', 'experts',\n",
       "       'video', 'yo', 'rescued', 'heres', 'photo', 'ways', 'cuff',\n",
       "       'dyslexic', 'walks', 'snl', 'tiers', 'joke', 'opposite', 'reasons',\n",
       "       'reveals', 'viagra', 'knock', 'mexicans', 'cross', 'infographic',\n",
       "       'toupee', 'lightbulb', 'erection', 'til', 'redneck', 'obamacare',\n",
       "       'rjokes', 'midgets', 'samantha', 'queer', 'cows', 'recently',\n",
       "       'health', 'alleged', 'proves', 'diarrhea', 'feds', 'festival'],\n",
       "      dtype=object)"
      ]
     },
     "execution_count": 12,
     "metadata": {},
     "output_type": "execute_result"
    }
   ],
   "source": [
    "#  Let's learn which words have highest values of training coefficient \n",
    "important_feature_indexes = [i[0] for i in sorted(enumerate(np.abs(lr.coef_[0])), key=lambda x: x[1], reverse=True)]\n",
    "important_features = vectorizer.get_feature_names_out()[important_feature_indexes]\n",
    "important_features[:50]"
   ]
  },
  {
   "cell_type": "markdown",
   "id": "f5841a4c",
   "metadata": {
    "papermill": {
     "duration": 0.029041,
     "end_time": "2022-04-17T15:03:31.869486",
     "exception": false,
     "start_time": "2022-04-17T15:03:31.840445",
     "status": "completed"
    },
    "tags": []
   },
   "source": [
    "We see that curse words are mostly important for a sentence to be humorous or not.\n",
    "\n",
    "Seeing knock in the important features seems right since knock knock jokes are pretty common.\n",
    "\n",
    "Seeing mexicans in here shows that there may be jokes about races in the dataset.\n",
    "\n",
    "Health may show the model that the sentence is not humorous as well.\n",
    "\n",
    "We can also take the sentences that these words are passed and see if they are most likely to be humorous or not. However, I would like to end my analysis here.\n",
    "\n",
    "Thanks for reading.\n"
   ]
  },
  {
   "cell_type": "markdown",
   "id": "86789f58",
   "metadata": {
    "papermill": {
     "duration": 0.028568,
     "end_time": "2022-04-17T15:03:31.926983",
     "exception": false,
     "start_time": "2022-04-17T15:03:31.898415",
     "status": "completed"
    },
    "tags": []
   },
   "source": [
    "## Fatih Özgür Ardıç"
   ]
  },
  {
   "cell_type": "code",
   "execution_count": null,
   "id": "81decbe7",
   "metadata": {
    "papermill": {
     "duration": 0.028518,
     "end_time": "2022-04-17T15:03:31.984443",
     "exception": false,
     "start_time": "2022-04-17T15:03:31.955925",
     "status": "completed"
    },
    "tags": []
   },
   "outputs": [],
   "source": []
  },
  {
   "cell_type": "markdown",
   "id": "784c9d9a",
   "metadata": {
    "papermill": {
     "duration": 0.028604,
     "end_time": "2022-04-17T15:03:32.041931",
     "exception": false,
     "start_time": "2022-04-17T15:03:32.013327",
     "status": "completed"
    },
    "tags": []
   },
   "source": []
  }
 ],
 "metadata": {
  "kernelspec": {
   "display_name": "Python 3",
   "language": "python",
   "name": "python3"
  },
  "language_info": {
   "codemirror_mode": {
    "name": "ipython",
    "version": 3
   },
   "file_extension": ".py",
   "mimetype": "text/x-python",
   "name": "python",
   "nbconvert_exporter": "python",
   "pygments_lexer": "ipython3",
   "version": "3.9.12"
  },
  "papermill": {
   "default_parameters": {},
   "duration": 37.418581,
   "end_time": "2022-04-17T15:03:32.793331",
   "environment_variables": {},
   "exception": null,
   "input_path": "__notebook__.ipynb",
   "output_path": "__notebook__.ipynb",
   "parameters": {},
   "start_time": "2022-04-17T15:02:55.374750",
   "version": "2.3.4"
  }
 },
 "nbformat": 4,
 "nbformat_minor": 5
}
